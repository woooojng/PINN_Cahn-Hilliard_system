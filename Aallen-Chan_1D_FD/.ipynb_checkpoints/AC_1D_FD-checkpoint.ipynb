{
 "cells": [
  {
   "cell_type": "code",
   "execution_count": 15,
   "id": "05099c04-e33a-409f-aaee-4e17e2b3e7a0",
   "metadata": {},
   "outputs": [
    {
     "name": "stderr",
     "output_type": "stream",
     "text": [
      "/var/folders/j9/4s8713nn53v3jz3ky1rz1f6h0000gn/T/ipykernel_6337/3681471175.py:34: RuntimeWarning: overflow encountered in power\n",
      "  u = u + dt * (.0001*u_xx(x, u) - 4 * u**3 + 4*u)\n",
      "/var/folders/j9/4s8713nn53v3jz3ky1rz1f6h0000gn/T/ipykernel_6337/3681471175.py:29: RuntimeWarning: invalid value encountered in subtract\n",
      "  u_xx = (np.roll(u,-1) -2 * u + np.roll(u,1))/dx**2\n",
      "/var/folders/j9/4s8713nn53v3jz3ky1rz1f6h0000gn/T/ipykernel_6337/3681471175.py:29: RuntimeWarning: invalid value encountered in add\n",
      "  u_xx = (np.roll(u,-1) -2 * u + np.roll(u,1))/dx**2\n",
      "/var/folders/j9/4s8713nn53v3jz3ky1rz1f6h0000gn/T/ipykernel_6337/3681471175.py:34: RuntimeWarning: invalid value encountered in add\n",
      "  u = u + dt * (.0001*u_xx(x, u) - 4 * u**3 + 4*u)\n",
      "/var/folders/j9/4s8713nn53v3jz3ky1rz1f6h0000gn/T/ipykernel_6337/3681471175.py:34: RuntimeWarning: overflow encountered in multiply\n",
      "  u = u + dt * (.0001*u_xx(x, u) - 4 * u**3 + 4*u)\n",
      "/var/folders/j9/4s8713nn53v3jz3ky1rz1f6h0000gn/T/ipykernel_6337/3681471175.py:34: RuntimeWarning: invalid value encountered in subtract\n",
      "  u = u + dt * (.0001*u_xx(x, u) - 4 * u**3 + 4*u)\n",
      "/var/folders/j9/4s8713nn53v3jz3ky1rz1f6h0000gn/T/ipykernel_6337/3681471175.py:29: RuntimeWarning: overflow encountered in divide\n",
      "  u_xx = (np.roll(u,-1) -2 * u + np.roll(u,1))/dx**2\n"
     ]
    }
   ],
   "source": [
    "import numpy as np\n",
    "import matplotlib.pyplot as plt\n",
    "\n",
    "#We will process FD for u on 2-dim domain of (x,t)\n",
    "\n",
    "#to collect u point at (x,0), define dx and input variable x\n",
    "dx = 0.00001\n",
    "Lx = 1- (-1)\n",
    "Nx = int(Lx/dx)\n",
    "x = np.linspace(-1, 1,Nx)# 1 contained?\n",
    "\n",
    "#defind u by initial condition of u at t=0\n",
    "u = x**2 * np.cos(np.pi * x)\n",
    "\n",
    "\n",
    "#defind boundary condition of u for every points of u\n",
    "def BoundaryCondition(u):\n",
    "    u[0] = u[-1]\n",
    "    u[1] = u[-2]\n",
    "    return u\n",
    "\n",
    "#to collect u points at (const, t) for each point x = const based on above initialized u,\n",
    "#define dt and input variable t\n",
    "dt = 1e-4\n",
    "T = 1\n",
    "\n",
    "#To express the governing equation, define the function for u_xx. Here we use central difference approximation.\n",
    "def u_xx(x, u):\n",
    "    u_xx = (np.roll(u,-1) -2 * u + np.roll(u,1))/dx**2\n",
    "    return u_xx\n",
    "u_list = [u.copy()]\n",
    "# as time increases, collect u points by updating new u at next time step\n",
    "for n in list(range(int(T/dt)-2)):\n",
    "    u = u + dt * (.0001*u_xx(x, u) - 4 * u**3 + 4*u)\n",
    "    u = BoundaryCondition(u)\n",
    "    if n %100 == 0:\n",
    "        u_list.append(u.copy())\n",
    "    "
   ]
  },
  {
   "cell_type": "code",
   "execution_count": 4,
   "id": "0d27d370-d2f9-4a0c-ba5e-c2f6487e6c4c",
   "metadata": {},
   "outputs": [
    {
     "ename": "TypeError",
     "evalue": "'float' object cannot be interpreted as an integer",
     "output_type": "error",
     "traceback": [
      "\u001b[31m---------------------------------------------------------------------------\u001b[39m",
      "\u001b[31mTypeError\u001b[39m                                 Traceback (most recent call last)",
      "\u001b[36mCell\u001b[39m\u001b[36m \u001b[39m\u001b[32mIn[4]\u001b[39m\u001b[32m, line 1\u001b[39m\n\u001b[32m----> \u001b[39m\u001b[32m1\u001b[39m \u001b[38;5;28;43mrange\u001b[39;49m\u001b[43m(\u001b[49m\u001b[32;43m4\u001b[39;49m\u001b[43m/\u001b[49m\u001b[32;43m2\u001b[39;49m\u001b[43m-\u001b[49m\u001b[32;43m1\u001b[39;49m\u001b[43m)\u001b[49m\n",
      "\u001b[31mTypeError\u001b[39m: 'float' object cannot be interpreted as an integer"
     ]
    }
   ],
   "source": [
    "range(4/2-1)"
   ]
  },
  {
   "cell_type": "code",
   "execution_count": null,
   "id": "aaf50454-898b-4e64-8eb2-90942d350a8f",
   "metadata": {},
   "outputs": [],
   "source": []
  }
 ],
 "metadata": {
  "kernelspec": {
   "display_name": "Python [conda env:fenicsx]",
   "language": "python",
   "name": "conda-env-fenicsx-py"
  },
  "language_info": {
   "codemirror_mode": {
    "name": "ipython",
    "version": 3
   },
   "file_extension": ".py",
   "mimetype": "text/x-python",
   "name": "python",
   "nbconvert_exporter": "python",
   "pygments_lexer": "ipython3",
   "version": "3.13.2"
  }
 },
 "nbformat": 4,
 "nbformat_minor": 5
}
